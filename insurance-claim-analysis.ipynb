{
 "cells": [
  {
   "cell_type": "markdown",
   "id": "cbc50027-62d7-44ca-b5f9-d9be381f1804",
   "metadata": {},
   "source": [
    "# Insurance claim analysis"
   ]
  },
  {
   "cell_type": "code",
   "execution_count": null,
   "id": "790d39e4-813b-44ae-b182-0f686068adee",
   "metadata": {},
   "outputs": [],
   "source": []
  }
 ],
 "metadata": {
  "kernelspec": {
   "display_name": "Python 3 (ipykernel)",
   "language": "python",
   "name": "python3"
  },
  "language_info": {
   "codemirror_mode": {
    "name": "ipython",
    "version": 3
   },
   "file_extension": ".py",
   "mimetype": "text/x-python",
   "name": "python",
   "nbconvert_exporter": "python",
   "pygments_lexer": "ipython3",
   "version": "3.12.4"
  }
 },
 "nbformat": 4,
 "nbformat_minor": 5
}
