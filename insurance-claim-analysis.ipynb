{
 "cells": [
  {
   "cell_type": "markdown",
   "id": "cbc50027-62d7-44ca-b5f9-d9be381f1804",
   "metadata": {},
   "source": [
    "### Car Insuracnce data Analysis adn Claim prediction"
   ]
  },
  {
   "cell_type": "code",
   "execution_count": 1,
   "id": "790d39e4-813b-44ae-b182-0f686068adee",
   "metadata": {},
   "outputs": [],
   "source": [
    "import numpy as np\n",
    "import pandas as pd \n",
    "import matplotlib.pyplot as plt\n",
    "import seaborn as sns"
   ]
  },
  {
   "cell_type": "code",
   "execution_count": null,
   "id": "14e20b92-7777-4f2e-8e67-8977cdb56ee9",
   "metadata": {},
   "outputs": [],
   "source": []
  },
  {
   "cell_type": "code",
   "execution_count": null,
   "id": "9906ba4c-f2a2-48c5-b6b3-5a8048856a94",
   "metadata": {},
   "outputs": [],
   "source": []
  }
 ],
 "metadata": {
  "kernelspec": {
   "display_name": "Python 3 (ipykernel)",
   "language": "python",
   "name": "python3"
  },
  "language_info": {
   "codemirror_mode": {
    "name": "ipython",
    "version": 3
   },
   "file_extension": ".py",
   "mimetype": "text/x-python",
   "name": "python",
   "nbconvert_exporter": "python",
   "pygments_lexer": "ipython3",
   "version": "3.12.4"
  }
 },
 "nbformat": 4,
 "nbformat_minor": 5
}
