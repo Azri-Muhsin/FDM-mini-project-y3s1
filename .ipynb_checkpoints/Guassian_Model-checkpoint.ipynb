{
 "cells": [
  {
   "cell_type": "code",
   "execution_count": 98,
   "id": "f9ca8ecd-4b38-44d9-873d-9b2f04b3a767",
   "metadata": {},
   "outputs": [],
   "source": [
    "import pickle\n",
    "from sklearn.naive_bayes import GaussianNB\n",
    "from sklearn.metrics import accuracy_score, precision_score, recall_score, classification_report, confusion_matrix\n",
    "from sklearn.model_selection import train_test_split\n",
    "import matplotlib.pyplot as plt\n",
    "import seaborn as sns\n",
    "import pandas as pd\n",
    "import numpy as np"
   ]
  },
  {
   "cell_type": "code",
   "execution_count": 100,
   "id": "108c2621-8d10-4f48-9413-289be497987d",
   "metadata": {},
   "outputs": [],
   "source": [
    "df = pd.read_csv('data/min_max_scaled')"
   ]
  },
  {
   "cell_type": "code",
   "execution_count": 102,
   "id": "2c96f129-6eaf-4606-abd4-6ac297f93254",
   "metadata": {},
   "outputs": [
    {
     "data": {
      "text/plain": [
       "Index(['KIDSDRIV', 'HOMEKIDS', 'YOJ', 'INCOME', 'PARENT1', 'HOME_VAL',\n",
       "       'MSTATUS', 'TRAVTIME', 'BLUEBOOK', 'TIF', 'RED_CAR', 'OLDCLAIM',\n",
       "       'CLM_FREQ', 'REVOKED', 'MVR_PTS', 'CAR_AGE', 'CLAIM_FLAG', 'GEN_AGE',\n",
       "       'GENDER_M', 'GENDER_z_F', 'EDUCATION_<High School',\n",
       "       'EDUCATION_Bachelors', 'EDUCATION_Masters', 'EDUCATION_PhD',\n",
       "       'EDUCATION_z_High School', 'OCCUPATION_Clerical', 'OCCUPATION_Doctor',\n",
       "       'OCCUPATION_Home Maker', 'OCCUPATION_Lawyer', 'OCCUPATION_Manager',\n",
       "       'OCCUPATION_Professional', 'OCCUPATION_Student',\n",
       "       'OCCUPATION_z_Blue Collar', 'CAR_USE_Commercial', 'CAR_USE_Private',\n",
       "       'CAR_TYPE_Minivan', 'CAR_TYPE_Panel Truck', 'CAR_TYPE_Pickup',\n",
       "       'CAR_TYPE_Sports Car', 'CAR_TYPE_Van', 'CAR_TYPE_z_SUV',\n",
       "       'URBANICITY_Highly Urban/ Urban', 'URBANICITY_z_Highly Rural/ Rural'],\n",
       "      dtype='object')"
      ]
     },
     "execution_count": 102,
     "metadata": {},
     "output_type": "execute_result"
    }
   ],
   "source": [
    "df = df.drop(columns=['Unnamed: 0','CLM_AMT'])\n",
    "df.columns"
   ]
  },
  {
   "cell_type": "code",
   "execution_count": 104,
   "id": "61688d72-62d8-470c-99d6-7415bfacfe4c",
   "metadata": {},
   "outputs": [],
   "source": [
    "X = df.iloc[:, df.columns != df.columns[16]]"
   ]
  },
  {
   "cell_type": "code",
   "execution_count": 106,
   "id": "f3ae95ae-e3f6-44c8-98e0-de9fd2cdcc65",
   "metadata": {},
   "outputs": [
    {
     "data": {
      "text/plain": [
       "Index(['KIDSDRIV', 'HOMEKIDS', 'YOJ', 'INCOME', 'PARENT1', 'HOME_VAL',\n",
       "       'MSTATUS', 'TRAVTIME', 'BLUEBOOK', 'TIF', 'RED_CAR', 'OLDCLAIM',\n",
       "       'CLM_FREQ', 'REVOKED', 'MVR_PTS', 'CAR_AGE', 'GEN_AGE', 'GENDER_M',\n",
       "       'GENDER_z_F', 'EDUCATION_<High School', 'EDUCATION_Bachelors',\n",
       "       'EDUCATION_Masters', 'EDUCATION_PhD', 'EDUCATION_z_High School',\n",
       "       'OCCUPATION_Clerical', 'OCCUPATION_Doctor', 'OCCUPATION_Home Maker',\n",
       "       'OCCUPATION_Lawyer', 'OCCUPATION_Manager', 'OCCUPATION_Professional',\n",
       "       'OCCUPATION_Student', 'OCCUPATION_z_Blue Collar', 'CAR_USE_Commercial',\n",
       "       'CAR_USE_Private', 'CAR_TYPE_Minivan', 'CAR_TYPE_Panel Truck',\n",
       "       'CAR_TYPE_Pickup', 'CAR_TYPE_Sports Car', 'CAR_TYPE_Van',\n",
       "       'CAR_TYPE_z_SUV', 'URBANICITY_Highly Urban/ Urban',\n",
       "       'URBANICITY_z_Highly Rural/ Rural'],\n",
       "      dtype='object')"
      ]
     },
     "execution_count": 106,
     "metadata": {},
     "output_type": "execute_result"
    }
   ],
   "source": [
    "X.columns"
   ]
  },
  {
   "cell_type": "code",
   "execution_count": 108,
   "id": "41acdcee-8578-4c16-967a-7c26058e9e47",
   "metadata": {},
   "outputs": [],
   "source": [
    "y = df.iloc[:, [16]]"
   ]
  },
  {
   "cell_type": "code",
   "execution_count": 110,
   "id": "7358162f-3dfb-40cc-b23a-a42f3ca8fe2b",
   "metadata": {},
   "outputs": [
    {
     "data": {
      "text/plain": [
       "Index(['CLAIM_FLAG'], dtype='object')"
      ]
     },
     "execution_count": 110,
     "metadata": {},
     "output_type": "execute_result"
    }
   ],
   "source": [
    "y.columns"
   ]
  },
  {
   "cell_type": "code",
   "execution_count": 112,
   "id": "3d3e1672-98ba-4c93-9fec-370e761d5cc2",
   "metadata": {},
   "outputs": [],
   "source": [
    "X_train, X_test, y_train, y_test = train_test_split(X, y, test_size=0.3, random_state = 42,)"
   ]
  },
  {
   "cell_type": "code",
   "execution_count": 114,
   "id": "3386e3ac-c338-4078-acbc-af1bd6249c1c",
   "metadata": {},
   "outputs": [
    {
     "name": "stderr",
     "output_type": "stream",
     "text": [
      "C:\\Users\\94773\\anaconda3\\Lib\\site-packages\\sklearn\\utils\\validation.py:1300: DataConversionWarning: A column-vector y was passed when a 1d array was expected. Please change the shape of y to (n_samples, ), for example using ravel().\n",
      "  y = column_or_1d(y, warn=True)\n"
     ]
    }
   ],
   "source": [
    "nb = GaussianNB()\n",
    "nb.fit(X_train, y_train)\n",
    "nb_pred = nb.predict(X_test)"
   ]
  },
  {
   "cell_type": "code",
   "execution_count": 116,
   "id": "f45af1ab-c59c-45cb-892a-c7caa04499cc",
   "metadata": {},
   "outputs": [
    {
     "name": "stdout",
     "output_type": "stream",
     "text": [
      "0.7237140084115173 0.4874493927125506 0.7314702308626975\n",
      "              precision    recall  f1-score   support\n",
      "\n",
      "         0.0       0.88      0.72      0.79      2268\n",
      "         1.0       0.49      0.73      0.59       823\n",
      "\n",
      "    accuracy                           0.72      3091\n",
      "   macro avg       0.68      0.73      0.69      3091\n",
      "weighted avg       0.78      0.72      0.74      3091\n",
      "\n"
     ]
    }
   ],
   "source": [
    "nb_accuracy_score = accuracy_score(y_test, nb_pred)\n",
    "nb_precision_score = precision_score(y_test, nb_pred)\n",
    "nb_recall_score = recall_score(y_test, nb_pred)\n",
    "print(nb_accuracy_score, nb_precision_score, nb_recall_score)\n",
    "print(classification_report(y_test, nb_pred))"
   ]
  },
  {
   "cell_type": "code",
   "execution_count": 118,
   "id": "b8f68e0b-895a-4fcf-a517-ccd336a94b79",
   "metadata": {},
   "outputs": [
    {
     "name": "stdout",
     "output_type": "stream",
     "text": [
      "Predictions: [0. 1. 0. 0. 1.]\n",
      "True Labels: [[0.]\n",
      " [1.]\n",
      " [0.]\n",
      " [0.]\n",
      " [1.]]\n"
     ]
    }
   ],
   "source": [
    "print(\"Predictions:\", nb_pred[:5])\n",
    "print(\"True Labels:\", y_test[:5].values)"
   ]
  },
  {
   "cell_type": "code",
   "execution_count": 120,
   "id": "30350410-b264-42e7-80eb-3dd62c04f01d",
   "metadata": {},
   "outputs": [
    {
     "name": "stdout",
     "output_type": "stream",
     "text": [
      "True Negatives (TN): 1635\n",
      "False Positives (FP): 633\n",
      "False Negatives (FN): 221\n",
      "True Positives (TP): 602\n"
     ]
    }
   ],
   "source": [
    "cm = confusion_matrix(y_test, nb_pred)\n",
    "TN, FP, FN, TP = cm.ravel()\n",
    "print(f\"True Negatives (TN): {TN}\")\n",
    "print(f\"False Positives (FP): {FP}\")\n",
    "print(f\"False Negatives (FN): {FN}\")\n",
    "print(f\"True Positives (TP): {TP}\")"
   ]
  },
  {
   "cell_type": "code",
   "execution_count": 122,
   "id": "7556f753-c8af-4634-a432-0fee323cd306",
   "metadata": {},
   "outputs": [
    {
     "data": {
      "image/png": "[encoded data removed]",
      "text/plain": [
       "<Figure size 600x400 with 2 Axes>"
      ]
     },
     "metadata": {},
     "output_type": "display_data"
    }
   ],
   "source": [
    "plt.figure(figsize=(6, 4))\n",
    "sns.heatmap(cm, annot=True, fmt='d', cmap='Blues', xticklabels=['Predicted No Claim', 'Predicted Claim'],\n",
    "            yticklabels=['Actual No Claim', 'Actual Claim'])\n",
    "plt.xlabel('Predicted Label')\n",
    "plt.ylabel('True Label')\n",
    "plt.title('Confusion Matrix')\n",
    "plt.show()"
   ]
  },
  {
   "cell_type": "code",
   "execution_count": 124,
   "id": "edf8530c-747f-4829-8649-9de333ca1ee5",
   "metadata": {},
   "outputs": [],
   "source": [
    "with open(\"gaussian.pkl\", \"wb\") as file: \n",
    "    pickle.dump(nb, file)"
   ]
  },
  {
   "cell_type": "code",
   "execution_count": null,
   "id": "f1239c4a-08c1-4c81-a440-4c0860f86bf1",
   "metadata": {},
   "outputs": [],
   "source": []
  },
  {
   "cell_type": "code",
   "execution_count": null,
   "id": "4adade4a-7a05-430c-9ab7-b6f386b78af2",
   "metadata": {},
   "outputs": [],
   "source": []
  }
 ],
 "metadata": {
  "kernelspec": {
   "display_name": "Python 3 (ipykernel)",
   "language": "python",
   "name": "python3"
  },
  "language_info": {
   "codemirror_mode": {
    "name": "ipython",
    "version": 3
   },
   "file_extension": ".py",
   "mimetype": "text/x-python",
   "name": "python",
   "nbconvert_exporter": "python",
   "pygments_lexer": "ipython3",
   "version": "3.12.4"
  }
 },
 "nbformat": 4,
 "nbformat_minor": 5
}
